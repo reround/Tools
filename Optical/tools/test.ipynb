{
 "cells": [
  {
   "cell_type": "code",
   "execution_count": 5,
   "metadata": {},
   "outputs": [],
   "source": [
    "import librosa\n",
    "from IPython.display import Audio\n",
    "from musical import *\n",
    "sample_rate = 22050  # 采样率\n",
    "sample_width = 2  # 位深\n",
    "time = 1\n",
    "arr = 0\n",
    "\n",
    "# Load audio file\n",
    "# audio_data, sample_rate = librosa.load(filename)\n",
    "# print(sample_rate)\n",
    "# audio_data = audio_data\n",
    "\n",
    "audio_data = piano_()\n",
    "# Display audio\n",
    "Audio(data=audio_data, rate=sample_rate)\n",
    "\n",
    "play_audio(audio_data)"
   ]
  }
 ],
 "metadata": {
  "kernelspec": {
   "display_name": "Python 3",
   "language": "python",
   "name": "python3"
  },
  "language_info": {
   "codemirror_mode": {
    "name": "ipython",
    "version": 3
   },
   "file_extension": ".py",
   "mimetype": "text/x-python",
   "name": "python",
   "nbconvert_exporter": "python",
   "pygments_lexer": "ipython3",
   "version": "3.10.9"
  }
 },
 "nbformat": 4,
 "nbformat_minor": 2
}
